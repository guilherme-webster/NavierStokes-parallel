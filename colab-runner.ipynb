{
 "cells": [
  {
   "cell_type": "markdown",
   "id": "6bfc04cb",
   "metadata": {},
   "source": [
    "# Load enviroment and check for folder"
   ]
  },
  {
   "cell_type": "code",
   "execution_count": null,
   "id": "c014ab06",
   "metadata": {
    "vscode": {
     "languageId": "plaintext"
    }
   },
   "outputs": [],
   "source": [
    "from google.colab import drive\n",
    "drive.mount('/content/gdrive')\n",
    "\n",
    "# Clone to Google Drive\n",
    "# !git clone https://github.com/guilherme-webster/NavierStokes-parallel.git /content/gdrive/MyDrive/NavierStokes-parallel"
   ]
  },
  {
   "cell_type": "code",
   "execution_count": null,
   "id": "66c19210",
   "metadata": {
    "vscode": {
     "languageId": "plaintext"
    }
   },
   "outputs": [],
   "source": [
    "import subprocess\n",
    "import os\n",
    "import numpy as np\n",
    "base_dir = \"/content/gdrive/MyDrive/NavierStokes-parallel\"\n",
    "get_ipython().run_line_magic('cd', base_dir)"
   ]
  },
  {
   "cell_type": "markdown",
   "id": "44a15399",
   "metadata": {},
   "source": [
    "# Aux functions declarations"
   ]
  },
  {
   "cell_type": "code",
   "execution_count": null,
   "id": "22e1f3c0",
   "metadata": {
    "vscode": {
     "languageId": "plaintext"
    }
   },
   "outputs": [],
   "source": [
    "# Helper functions to compare CFD simulation outputs\n",
    "def extract_center_values(filename):\n",
    "    \"\"\"Extract the center U, V, and P values from the output file\"\"\"\n",
    "    values = {\"u_center\": [], \"v_center\": [], \"p_center\": []}\n",
    "    \n",
    "    try:\n",
    "        with open(filename, 'r') as f:\n",
    "            lines = f.readlines()\n",
    "            \n",
    "        for i, line in enumerate(lines):\n",
    "            if \"U-CENTER:\" in line:\n",
    "                try:\n",
    "                    value = float(line.split(\":\")[-1].strip())\n",
    "                    if not np.isnan(value) and not np.isinf(value):\n",
    "                        values[\"u_center\"].append(value)\n",
    "                except ValueError:\n",
    "                    continue\n",
    "                    \n",
    "            elif \"V-CENTER:\" in line:\n",
    "                try:\n",
    "                    value = float(line.split(\":\")[-1].strip())\n",
    "                    if not np.isnan(value) and not np.isinf(value):\n",
    "                        values[\"v_center\"].append(value)\n",
    "                except ValueError:\n",
    "                    continue\n",
    "                    \n",
    "            elif \"P-CENTER:\" in line:\n",
    "                try:\n",
    "                    value = float(line.split(\":\")[-1].strip())\n",
    "                    if not np.isnan(value) and not np.isinf(value):\n",
    "                        values[\"p_center\"].append(value)\n",
    "                except ValueError:\n",
    "                    continue\n",
    "    except Exception as e:\n",
    "        print(f\"Error extracting values from {filename}: {e}\")\n",
    "        \n",
    "    return values\n",
    "\n",
    "def compare_cfd_outputs(serial_file, parallel_file, relative_tolerance=0.05):\n",
    "    \"\"\"Compare CFD outputs with relative tolerance for numerical differences\"\"\"\n",
    "    serial_values = extract_center_values(serial_file)\n",
    "    parallel_values = extract_center_values(parallel_file)\n",
    "    \n",
    "    # Make sure we have values to compare\n",
    "    if not all(serial_values.values()) or not all(parallel_values.values()):\n",
    "        return False, \"Missing values in output files\"\n",
    "    \n",
    "    # Compare final state (last 10% of timesteps)\n",
    "    errors = []\n",
    "    \n",
    "    for key in [\"u_center\", \"v_center\", \"p_center\"]:\n",
    "        # Get last 10% of values or at least the last value\n",
    "        serial_final = serial_values[key][-max(1, len(serial_values[key])//10):]\n",
    "        parallel_final = parallel_values[key][-max(1, len(parallel_values[key])//10):]\n",
    "        \n",
    "        # If different number of timesteps, just compare the last value\n",
    "        if len(serial_final) != len(parallel_final):\n",
    "            serial_final = [serial_final[-1]]\n",
    "            parallel_final = [parallel_final[-1]]\n",
    "        \n",
    "        for s_val, p_val in zip(serial_final, parallel_final):\n",
    "            # Avoid division by zero with small denominator\n",
    "            denominator = max(abs(s_val), 1e-6)\n",
    "            rel_error = abs(s_val - p_val) / denominator\n",
    "            errors.append(rel_error)\n",
    "    \n",
    "    max_error = max(errors) if errors else float('inf')\n",
    "    avg_error = sum(errors)/len(errors) if errors else float('inf')\n",
    "    \n",
    "    if max_error <= relative_tolerance:\n",
    "        return True, f\"Outputs match within tolerance. Avg error: {avg_error:.6f}, Max error: {max_error:.6f}\"\n",
    "    else:\n",
    "        return False, f\"Outputs differ beyond tolerance. Avg error: {avg_error:.6f}, Max error: {max_error:.6f}\""
   ]
  },
  {
   "cell_type": "markdown",
   "id": "9278ac1f",
   "metadata": {},
   "source": [
    "# Running and comparing with serial"
   ]
  },
  {
   "cell_type": "code",
   "execution_count": null,
   "id": "f826e8c4",
   "metadata": {
    "vscode": {
     "languageId": "plaintext"
    }
   },
   "outputs": [],
   "source": [
    "# set exercise path\n",
    "exercise_dir = base_dir\n",
    "\n",
    "# Function to run shell commands in a specific directory\n",
    "def run_command(command, work_dir):\n",
    "    return subprocess.run(command, shell=True, cwd=work_dir, text=True, stdout=subprocess.PIPE, stderr=subprocess.PIPE)\n",
    "\n",
    "# Create and prepare the build directory\n",
    "cmd_return = run_command('cmake -E remove -f build', exercise_dir)\n",
    "print(f\"Cmake output:\\n{cmd_return.stdout}\")\n",
    "\n",
    "if cmd_return.returncode != 0:\n",
    "    print(f\"Cmake failed with error:\\n{cmd_return.stderr}\")\n",
    "    assert False\n",
    "\n",
    "run_command('cmake -E make_directory build', exercise_dir)\n",
    "cmd_return = run_command('cmake ../ -DCMAKE_BUILD_TYPE=Release', os.path.join(exercise_dir, 'build'))\n",
    "print(f\"Cmake output:\\n{cmd_return.stdout}\")\n",
    "\n",
    "if cmd_return.returncode != 0:\n",
    "    print(f\"Cmake failed with error:\\n{cmd_return.stderr}\")\n",
    "    assert False\n",
    "\n",
    "# Compile the programs\n",
    "cmd_return = run_command('make', os.path.join(exercise_dir, 'build'))\n",
    "print(f\"Compilation output:\\n{cmd_return.stdout}\")\n",
    "\n",
    "if cmd_return.returncode != 0:\n",
    "    print(f\"Compilation failed with error:\\n{cmd_return.stderr}\")\n",
    "    assert False\n",
    "\n",
    "# Execute tests and collect outputs\n",
    "for i in range(1, 6):\n",
    "    test_input = f\"tests/{i}.in\"\n",
    "\n",
    "    if not os.path.exists(os.path.join(exercise_dir, test_input)):\n",
    "        printf(\"Error! Test input not found\")\n",
    "\n",
    "    parallel_output = f\"parallel.{i}.out\"\n",
    "    serial_output = f\"serial.{i}.out\"\n",
    "    parallel_time = f\"parallel.{i}.time\"\n",
    "    serial_time = f\"serial.{i}.time\"\n",
    "\n",
    "\n",
    "    # Workaround for GDrive permissions\n",
    "    subprocess.run(f\"chmod 755 ./parallel\", shell=True, cwd=os.path.join(exercise_dir, 'build'))\n",
    "    subprocess.run(f\"chmod 755 ./serial\", shell=True, cwd=os.path.join(exercise_dir, 'build'))\n",
    "\n",
    "    # Run parallel and serial programs\n",
    "    subprocess.run(f\"build/parallel {test_input} > build/{parallel_output} 2> build/{parallel_time}\", shell=True, cwd=os.path.join(exercise_dir))\n",
    "    subprocess.run(f\"build/serial {test_input} > build/{serial_output} 2> build/{serial_time}\", shell=True, cwd=os.path.join(exercise_dir))\n",
    "\n",
    "    # Compare outputs and calculate speedup\n",
    "    diff_result = subprocess.run(f\"cmp {serial_output} {parallel_output}\", shell=True, cwd=os.path.join(exercise_dir, 'build'), stderr=subprocess.PIPE)\n",
    "    diff_status = diff_result.returncode\n",
    "\n",
    "    # Read timings\n",
    "    with open(os.path.join(exercise_dir, 'build', serial_time), 'r') as f:\n",
    "        serial_runtime = float(f.read().strip())\n",
    "    \n",
    "    try:\n",
    "        with open(os.path.join(exercise_dir, 'build', parallel_time), 'r') as f:\n",
    "            parallel_runtime = float(f.read().strip())\n",
    "    except:\n",
    "        parallel_runtime = 0\n",
    "\n",
    "    # Compare outputs with relaxed tolerance appropriate for CFD\n",
    "    match, message = compare_cfd_outputs(\n",
    "        os.path.join(exercise_dir, 'build', serial_output),\n",
    "        os.path.join(exercise_dir, 'build', parallel_output),\n",
    "        relative_tolerance=0.05  # 5% relative tolerance\n",
    "    )\n",
    "    \n",
    "    test_status = \"[CORRECT OUTPUT]\" if match else \"[APPROXIMATE OUTPUT]\" if \"Avg error\" in message and float(message.split(\"Avg error:\")[1].split(\",\")[0]) < 0.2 else \"[INCORRECT OUTPUT]\"\n",
    "\n",
    "    # Calculate and display speedup\n",
    "    if match or \"Avg error\" in message:\n",
    "        speedup = serial_runtime / parallel_runtime if parallel_runtime > 0 else float('inf')\n",
    "        print(f\"Test {i}: {test_status}\")\n",
    "        print(f\"  Serial time = {serial_runtime:.6f}s\")\n",
    "        print(f\"  Parallel time = {parallel_runtime:.6f}s\")\n",
    "        print(f\"  Speedup = {speedup:.4f}x\")\n",
    "        print(f\"  {message}\\n\")\n",
    "    else:\n",
    "        print(f\"Test {i}: {test_status}\")\n",
    "        print(f\"  Serial time = {serial_runtime:.6f}s\")\n",
    "        print(f\"  {message}\\n\")"
   ]
  }
 ],
 "metadata": {
  "language_info": {
   "name": "python"
  }
 },
 "nbformat": 4,
 "nbformat_minor": 5
}
