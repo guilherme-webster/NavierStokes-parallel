{
 "cells": [
  {
   "cell_type": "markdown",
   "id": "6bfc04cb",
   "metadata": {},
   "source": [
    "# Load enviroment and check for folder"
   ]
  },
  {
   "cell_type": "code",
   "execution_count": null,
   "id": "c014ab06",
   "metadata": {
    "vscode": {
     "languageId": "plaintext"
    }
   },
   "outputs": [],
   "source": [
    "from google.colab import drive\n",
    "drive.mount('/content/gdrive')"
   ]
  },
  {
   "cell_type": "code",
   "execution_count": null,
   "id": "66c19210",
   "metadata": {
    "vscode": {
     "languageId": "plaintext"
    }
   },
   "outputs": [],
   "source": [
    "import subprocess\n",
    "import os\n",
    "base_dir = \"/content/gdrive/MyDrive/NavierStokes-parallel\"\n",
    "get_ipython().run_line_magic('cd', base_dir)"
   ]
  },
  {
   "cell_type": "markdown",
   "id": "9278ac1f",
   "metadata": {},
   "source": [
    "# Running and comparing with serial"
   ]
  },
  {
   "cell_type": "code",
   "execution_count": null,
   "id": "f826e8c4",
   "metadata": {
    "vscode": {
     "languageId": "plaintext"
    }
   },
   "outputs": [],
   "source": [
    "# set exercise path\n",
    "exercise_dir = base_dir\n",
    "\n",
    "# Function to run shell commands in a specific directory\n",
    "def run_command(command, work_dir):\n",
    "    return subprocess.run(command, shell=True, cwd=work_dir, text=True, stdout=subprocess.PIPE, stderr=subprocess.PIPE)\n",
    "\n",
    "# Create and prepare the build directory\n",
    "cmd_return = run_command('cmake -E remove -f build', exercise_dir)\n",
    "print(f\"Cmake output:\\n{cmd_return.stdout}\")\n",
    "\n",
    "if cmd_return.returncode != 0:\n",
    "    print(f\"Cmake failed with error:\\n{cmd_return.stderr}\")\n",
    "    assert False\n",
    "\n",
    "run_command('cmake -E make_directory build', exercise_dir)\n",
    "cmd_return = run_command('cmake ../ -DCMAKE_BUILD_TYPE=Release', os.path.join(exercise_dir, 'build'))\n",
    "print(f\"Cmake output:\\n{cmd_return.stdout}\")\n",
    "\n",
    "if cmd_return.returncode != 0:\n",
    "    print(f\"Cmake failed with error:\\n{cmd_return.stderr}\")\n",
    "    assert False\n",
    "\n",
    "# Compile the programs\n",
    "cmd_return = run_command('make', os.path.join(exercise_dir, 'build'))\n",
    "print(f\"Compilation output:\\n{cmd_return.stdout}\")\n",
    "\n",
    "if cmd_return.returncode != 0:\n",
    "    print(f\"Compilation failed with error:\\n{cmd_return.stderr}\")\n",
    "    assert False\n",
    "\n",
    "# Execute tests and collect outputs\n",
    "for i in range(1, 6):\n",
    "    test_input = f\"tests/{i}.in\"\n",
    "    parallel_output = f\"parallel.{i}.out\"\n",
    "    serial_output = f\"serial.{i}.out\"\n",
    "    parallel_time = f\"parallel.{i}.time\"\n",
    "    serial_time = f\"serial.{i}.time\"\n",
    "\n",
    "\n",
    "    # Workaround for GDrive permissions\n",
    "    subprocess.run(f\"chmod 755 ./parallel\", shell=True, cwd=os.path.join(exercise_dir, 'build'))\n",
    "    subprocess.run(f\"chmod 755 ./serial\", shell=True, cwd=os.path.join(exercise_dir, 'build'))\n",
    "\n",
    "    # Run parallel and serial programs\n",
    "    subprocess.run(f\"build/parallel {test_input} > build/{parallel_output} 2> build/{parallel_time}\", shell=True, cwd=os.path.join(exercise_dir))\n",
    "    subprocess.run(f\"build/serial {test_input} > build/{serial_output} 2> build/{serial_time}\", shell=True, cwd=os.path.join(exercise_dir))\n",
    "\n",
    "    # Compare outputs and calculate speedup\n",
    "    diff_result = subprocess.run(f\"cmp {serial_output} {parallel_output}\", shell=True, cwd=os.path.join(exercise_dir, 'build'), stderr=subprocess.PIPE)\n",
    "    diff_status = diff_result.returncode\n",
    "\n",
    "    # Read timings and calculate speedup\n",
    "    with open(os.path.join(exercise_dir, 'build', serial_time), 'r') as f:\n",
    "        serial_runtime = float(f.read().strip())\n",
    "\n",
    "    test_status = \"[CORRECT OUTPUT]\" if diff_status == 0 else \"[INCORRECT OUTPUT]\"\n",
    "\n",
    "    # Read parallel runtime only if the output is correct\n",
    "    if diff_status == 0:\n",
    "        with open(os.path.join(exercise_dir, 'build', parallel_time), 'r') as f:\n",
    "            parallel_runtime = float(f.read().strip())\n",
    "        speedup = serial_runtime / parallel_runtime if parallel_runtime > 0 else float('inf')\n",
    "        print(f\"Test {i}: {test_status} Serial time = {serial_runtime}s, Parallel time = {parallel_runtime}s, Speedup = {speedup:.4f}x\\n\")\n",
    "\n",
    "    else:\n",
    "        print(f\"Test {i}: {test_status} Serial time = {serial_runtime}s, Parallel time = --, Speedup = --\")\n",
    "        print(f\"Diff output: {diff_result.stderr}\\n\\n\")"
   ]
  }
 ],
 "metadata": {
  "language_info": {
   "name": "python"
  }
 },
 "nbformat": 4,
 "nbformat_minor": 5
}
